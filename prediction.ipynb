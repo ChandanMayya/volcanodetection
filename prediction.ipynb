{
 "cells": [
  {
   "cell_type": "code",
   "execution_count": 17,
   "metadata": {},
   "outputs": [],
   "source": [
    "import pickle"
   ]
  },
  {
   "cell_type": "code",
   "execution_count": 27,
   "metadata": {},
   "outputs": [],
   "source": [
    "X = pickle.load(open('X.pkl', 'rb'))\n",
    "y = pickle.load(open('y.pkl', 'rb'))"
   ]
  },
  {
   "cell_type": "code",
   "execution_count": 28,
   "metadata": {},
   "outputs": [],
   "source": [
    "X = X/255"
   ]
  },
  {
   "cell_type": "code",
   "execution_count": 29,
   "metadata": {},
   "outputs": [],
   "source": [
    "X = X.reshape(-1, 120, 120, 1)"
   ]
  },
  {
   "cell_type": "code",
   "execution_count": 30,
   "metadata": {},
   "outputs": [],
   "source": [
    "from keras.models import Sequential\n",
    "from keras.layers import Conv2D, MaxPooling2D, Dense, Flatten"
   ]
  },
  {
   "cell_type": "code",
   "execution_count": 31,
   "metadata": {},
   "outputs": [],
   "source": [
    "from keras.callbacks import TensorBoard\n",
    "import time"
   ]
  },
  {
   "cell_type": "code",
   "execution_count": 32,
   "metadata": {},
   "outputs": [],
   "source": [
    "dense_layers = [3]\n",
    "conv_layers = [3]\n",
    "neurons = [64]"
   ]
  },
  {
   "cell_type": "code",
   "execution_count": 33,
   "metadata": {},
   "outputs": [
    {
     "name": "stdout",
     "output_type": "stream",
     "text": [
      "===================================================================================================================================\n",
      "===================================================================================================================================\n",
      "=========================================== RUNNING MODEL =========================================================================\n",
      "==================================================3-denselayer-3-convlayer-64-neuron-1677663540======================================================================\n",
      "===================================================================================================================================\n",
      "===================================================================================================================================\n",
      "Epoch 1/8\n",
      "33/33 [==============================] - 31s 817ms/step - loss: 0.6259 - accuracy: 0.7053 - val_loss: 0.6035 - val_accuracy: 0.7478\n",
      "Epoch 2/8\n",
      "33/33 [==============================] - 24s 727ms/step - loss: 0.5938 - accuracy: 0.7063 - val_loss: 0.5721 - val_accuracy: 0.7478\n",
      "Epoch 3/8\n",
      "33/33 [==============================] - 24s 736ms/step - loss: 0.5568 - accuracy: 0.7246 - val_loss: 0.5090 - val_accuracy: 0.7652\n",
      "Epoch 4/8\n",
      "33/33 [==============================] - 24s 715ms/step - loss: 0.5284 - accuracy: 0.7304 - val_loss: 0.4674 - val_accuracy: 0.7739\n",
      "Epoch 5/8\n",
      "33/33 [==============================] - 23s 701ms/step - loss: 0.4521 - accuracy: 0.7932 - val_loss: 0.4436 - val_accuracy: 0.7739\n",
      "Epoch 6/8\n",
      "33/33 [==============================] - 23s 699ms/step - loss: 0.3568 - accuracy: 0.8464 - val_loss: 0.4505 - val_accuracy: 0.7478\n",
      "Epoch 7/8\n",
      "33/33 [==============================] - 23s 708ms/step - loss: 0.2853 - accuracy: 0.8812 - val_loss: 0.5226 - val_accuracy: 0.7826\n",
      "Epoch 8/8\n",
      "33/33 [==============================] - 24s 714ms/step - loss: 0.2803 - accuracy: 0.8725 - val_loss: 0.4813 - val_accuracy: 0.7478\n"
     ]
    },
    {
     "name": "stderr",
     "output_type": "stream",
     "text": [
      "WARNING:absl:Found untraced functions such as _jit_compiled_convolution_op, _jit_compiled_convolution_op, _jit_compiled_convolution_op, _update_step_xla while saving (showing 4 of 4). These functions will not be directly callable after loading.\n"
     ]
    },
    {
     "name": "stdout",
     "output_type": "stream",
     "text": [
      "INFO:tensorflow:Assets written to: 3x3x64-volcano.model\\assets\n"
     ]
    },
    {
     "name": "stderr",
     "output_type": "stream",
     "text": [
      "INFO:tensorflow:Assets written to: 3x3x64-volcano.model\\assets\n"
     ]
    }
   ],
   "source": [
    "for dense_layer in dense_layers:\n",
    "\tfor conv_layer in conv_layers:\n",
    "\t\tfor neuron in neurons:\n",
    "\n",
    "\t\t\tNAME = '{}-denselayer-{}-convlayer-{}-neuron-{}'.format(dense_layer, conv_layer, neuron, int(time.time()))\n",
    "\t\t\ttensorboard = TensorBoard(log_dir = 'logs2\\\\{}'.format(NAME))\n",
    "\n",
    "\n",
    "\t\t\tmodel = Sequential()\n",
    "\n",
    "\t\t\tfor l in range(conv_layer):\n",
    "\t\t\t\tmodel.add(Conv2D(neuron, (3,3), activation = 'relu'))\n",
    "\t\t\t\tmodel.add(MaxPooling2D((2,2)))\n",
    "\n",
    "\t\t\tmodel.add(Flatten())\n",
    "\n",
    "\t\t\tmodel.add(Dense(neuron, input_shape = X.shape[1:], activation = 'relu'))\n",
    "\n",
    "\t\t\tfor l in range(dense_layer - 1):\n",
    "\t\t\t\tmodel.add(Dense(neuron, activation = 'relu'))\n",
    "\n",
    "\t\t\tmodel.add(Dense(2, activation = 'softmax'))\n",
    "\n",
    "\t\t\tmodel.compile(optimizer='adam',\n",
    "\t\t\t              loss='sparse_categorical_crossentropy',\n",
    "\t\t\t              metrics=['accuracy'])\n",
    "\n",
    "\t\t\tprint('===================================================================================================================================')\n",
    "\t\t\tprint('===================================================================================================================================')\n",
    "\t\t\tprint('=========================================== RUNNING MODEL =========================================================================')\n",
    "\t\t\tprint('=================================================='+ NAME + '======================================================================')\n",
    "\t\t\tprint('===================================================================================================================================')\n",
    "\t\t\tprint('===================================================================================================================================')\n",
    "\n",
    "\t\t\tmodel.fit(X, y, epochs=8, batch_size = 32, validation_split=0.1, callbacks = [tensorboard])\n",
    "\n",
    "\t\t\tmodel.save('3x3x64-volcano.model')"
   ]
  }
 ],
 "metadata": {
  "kernelspec": {
   "display_name": "Python 3",
   "language": "python",
   "name": "python3"
  },
  "language_info": {
   "codemirror_mode": {
    "name": "ipython",
    "version": 3
   },
   "file_extension": ".py",
   "mimetype": "text/x-python",
   "name": "python",
   "nbconvert_exporter": "python",
   "pygments_lexer": "ipython3",
   "version": "3.10.10"
  },
  "orig_nbformat": 4,
  "vscode": {
   "interpreter": {
    "hash": "3b7e9cb8e453d6cda0fe8c8dd13f891a1f09162f0e7c66ffeae7751a7aecf00d"
   }
  }
 },
 "nbformat": 4,
 "nbformat_minor": 2
}
