{
 "cells": [
  {
   "cell_type": "code",
   "execution_count": 1,
   "metadata": {},
   "outputs": [],
   "source": [
    "#preprocessing"
   ]
  },
  {
   "cell_type": "code",
   "execution_count": 1,
   "metadata": {},
   "outputs": [],
   "source": [
    "import numpy as np\n",
    "import os\n",
    "import cv2\n",
    "import matplotlib.pyplot as plt"
   ]
  },
  {
   "cell_type": "code",
   "execution_count": 2,
   "metadata": {},
   "outputs": [],
   "source": [
    "%matplotlib inline"
   ]
  },
  {
   "cell_type": "code",
   "execution_count": 3,
   "metadata": {},
   "outputs": [],
   "source": [
    "DIRECTORY = r'C:\\Users\\User\\OneDrive\\Desktop\\s3\\dal\\OnBoardVolcanicEruptionDetection-main\\data_reviewed\\training'\n",
    "\n",
    "CATEGORIES = ['eruption', 'no_eruption']"
   ]
  },
  {
   "cell_type": "code",
   "execution_count": 19,
   "metadata": {},
   "outputs": [],
   "source": [
    "data = []\n",
    "\n",
    "for category in CATEGORIES:\n",
    "    path = os.path.join(DIRECTORY, category)\n",
    "    for img in os.listdir(path):\n",
    "        img_path = os.path.join(path, img)\n",
    "        label = CATEGORIES.index(category)\n",
    "        arr = cv2.imread(img_path, cv2.IMREAD_GRAYSCALE)\n",
    "        new_arr = cv2.resize(arr, (120, 120))\n",
    "        data.append([new_arr, label])"
   ]
  },
  {
   "cell_type": "code",
   "execution_count": 20,
   "metadata": {},
   "outputs": [],
   "source": [
    "import random\n",
    "random.shuffle(data)"
   ]
  },
  {
   "cell_type": "code",
   "execution_count": 21,
   "metadata": {},
   "outputs": [],
   "source": [
    "X = []\n",
    "y = []"
   ]
  },
  {
   "cell_type": "code",
   "execution_count": 22,
   "metadata": {},
   "outputs": [],
   "source": [
    "for features, label in data:\n",
    "    X.append(features)\n",
    "    y.append(label)"
   ]
  },
  {
   "cell_type": "code",
   "execution_count": 23,
   "metadata": {},
   "outputs": [],
   "source": [
    "X = np.array(X)\n",
    "y = np.array(y)"
   ]
  },
  {
   "cell_type": "code",
   "execution_count": 24,
   "metadata": {},
   "outputs": [
    {
     "data": {
      "text/plain": [
       "(1150, 120, 120)"
      ]
     },
     "execution_count": 24,
     "metadata": {},
     "output_type": "execute_result"
    }
   ],
   "source": [
    "X = X/255\n",
    "X.shape"
   ]
  },
  {
   "cell_type": "code",
   "execution_count": 25,
   "metadata": {},
   "outputs": [],
   "source": [
    "X = X.reshape(-1, 120, 120, 1)"
   ]
  },
  {
   "cell_type": "code",
   "execution_count": 26,
   "metadata": {},
   "outputs": [],
   "source": [
    "#training"
   ]
  },
  {
   "cell_type": "code",
   "execution_count": 27,
   "metadata": {},
   "outputs": [],
   "source": [
    "from keras.models import Sequential\n",
    "from keras.layers import Conv2D, MaxPooling2D, Dense, Flatten"
   ]
  },
  {
   "cell_type": "code",
   "execution_count": 28,
   "metadata": {},
   "outputs": [],
   "source": [
    "model = Sequential()\n",
    "\n",
    "model.add(Conv2D(64, (3,3), activation = 'relu'))\n",
    "model.add(MaxPooling2D((2,2)))\n",
    "\n",
    "model.add(Conv2D(64, (3,3), activation = 'relu'))\n",
    "model.add(MaxPooling2D((2,2)))\n",
    "\n",
    "model.add(Flatten())\n",
    "\n",
    "model.add(Dense(128, input_shape = X.shape[1:], activation = 'relu'))\n",
    "\n",
    "model.add(Dense(2, activation = 'softmax'))"
   ]
  },
  {
   "cell_type": "code",
   "execution_count": 29,
   "metadata": {},
   "outputs": [
    {
     "name": "stdout",
     "output_type": "stream",
     "text": [
      "Epoch 1/10\n",
      "33/33 [==============================] - 26s 716ms/step - loss: 0.7273 - accuracy: 0.6638 - val_loss: 0.5558 - val_accuracy: 0.7391\n",
      "Epoch 2/10\n",
      "33/33 [==============================] - 22s 663ms/step - loss: 0.5597 - accuracy: 0.7188 - val_loss: 0.5372 - val_accuracy: 0.7565\n",
      "Epoch 3/10\n",
      "33/33 [==============================] - 23s 683ms/step - loss: 0.4912 - accuracy: 0.7643 - val_loss: 0.4961 - val_accuracy: 0.8087\n",
      "Epoch 4/10\n",
      "33/33 [==============================] - 25s 758ms/step - loss: 0.3898 - accuracy: 0.8193 - val_loss: 0.4343 - val_accuracy: 0.7913\n",
      "Epoch 5/10\n",
      "33/33 [==============================] - 22s 664ms/step - loss: 0.3058 - accuracy: 0.8638 - val_loss: 0.4055 - val_accuracy: 0.8609\n",
      "Epoch 6/10\n",
      "33/33 [==============================] - 22s 678ms/step - loss: 0.2226 - accuracy: 0.9101 - val_loss: 0.3827 - val_accuracy: 0.8261\n",
      "Epoch 7/10\n",
      "33/33 [==============================] - 22s 675ms/step - loss: 0.2011 - accuracy: 0.9198 - val_loss: 0.4227 - val_accuracy: 0.8522\n",
      "Epoch 8/10\n",
      "33/33 [==============================] - 22s 668ms/step - loss: 0.1794 - accuracy: 0.9295 - val_loss: 0.5042 - val_accuracy: 0.8522\n",
      "Epoch 9/10\n",
      "33/33 [==============================] - 22s 665ms/step - loss: 0.1136 - accuracy: 0.9507 - val_loss: 0.5609 - val_accuracy: 0.8522\n",
      "Epoch 10/10\n",
      "33/33 [==============================] - 22s 660ms/step - loss: 0.0968 - accuracy: 0.9671 - val_loss: 0.4958 - val_accuracy: 0.8348\n"
     ]
    },
    {
     "data": {
      "text/plain": [
       "<keras.callbacks.History at 0x23830865d20>"
      ]
     },
     "execution_count": 29,
     "metadata": {},
     "output_type": "execute_result"
    }
   ],
   "source": [
    "model.compile(optimizer='adam',\n",
    "              loss='sparse_categorical_crossentropy',\n",
    "              metrics=['accuracy'])\n",
    "model.fit(X, y, epochs=10, validation_split=0.1)"
   ]
  },
  {
   "cell_type": "code",
   "execution_count": 30,
   "metadata": {},
   "outputs": [],
   "source": [
    "from keras.models import Sequential\n",
    "from keras.layers import Conv2D, MaxPooling2D, Dense, Flatten\n",
    "\n",
    "from keras.callbacks import TensorBoard\n",
    "import time"
   ]
  },
  {
   "cell_type": "code",
   "execution_count": 31,
   "metadata": {},
   "outputs": [],
   "source": [
    "dense_layers = [3]\n",
    "conv_layers = [3]\n",
    "neurons = [64]"
   ]
  },
  {
   "cell_type": "code",
   "execution_count": 32,
   "metadata": {},
   "outputs": [
    {
     "name": "stdout",
     "output_type": "stream",
     "text": [
      "===================================================================================================================================\n",
      "===================================================================================================================================\n",
      "=========================================== RUNNING MODEL =========================================================================\n",
      "==================================================3-denselayer-3-convlayer-64-neuron-1679273082======================================================================\n",
      "===================================================================================================================================\n",
      "===================================================================================================================================\n",
      "Epoch 1/10\n",
      "33/33 [==============================] - 23s 654ms/step - loss: 0.6190 - accuracy: 0.7053 - val_loss: 0.5953 - val_accuracy: 0.7391\n",
      "Epoch 2/10\n",
      "33/33 [==============================] - 21s 650ms/step - loss: 0.5910 - accuracy: 0.7101 - val_loss: 0.5304 - val_accuracy: 0.7478\n",
      "Epoch 3/10\n",
      "33/33 [==============================] - 20s 618ms/step - loss: 0.5699 - accuracy: 0.7208 - val_loss: 0.5757 - val_accuracy: 0.7391\n",
      "Epoch 4/10\n",
      "33/33 [==============================] - 20s 612ms/step - loss: 0.5153 - accuracy: 0.7430 - val_loss: 0.6443 - val_accuracy: 0.7391\n",
      "Epoch 5/10\n",
      "33/33 [==============================] - 23s 710ms/step - loss: 0.6014 - accuracy: 0.7527 - val_loss: 0.5224 - val_accuracy: 0.7478\n",
      "Epoch 6/10\n",
      "33/33 [==============================] - 21s 632ms/step - loss: 0.4702 - accuracy: 0.7797 - val_loss: 0.5070 - val_accuracy: 0.7652\n",
      "Epoch 7/10\n",
      "33/33 [==============================] - 22s 682ms/step - loss: 0.4150 - accuracy: 0.8097 - val_loss: 0.4936 - val_accuracy: 0.7826\n",
      "Epoch 8/10\n",
      "33/33 [==============================] - 22s 659ms/step - loss: 0.3853 - accuracy: 0.8329 - val_loss: 0.4560 - val_accuracy: 0.7913\n",
      "Epoch 9/10\n",
      "33/33 [==============================] - 20s 614ms/step - loss: 0.2845 - accuracy: 0.8841 - val_loss: 0.4399 - val_accuracy: 0.8522\n",
      "Epoch 10/10\n",
      "33/33 [==============================] - 20s 615ms/step - loss: 0.2089 - accuracy: 0.9121 - val_loss: 0.5129 - val_accuracy: 0.8348\n"
     ]
    },
    {
     "name": "stderr",
     "output_type": "stream",
     "text": [
      "WARNING:absl:Found untraced functions such as _jit_compiled_convolution_op, _jit_compiled_convolution_op, _jit_compiled_convolution_op, _update_step_xla while saving (showing 4 of 4). These functions will not be directly callable after loading.\n"
     ]
    },
    {
     "name": "stdout",
     "output_type": "stream",
     "text": [
      "INFO:tensorflow:Assets written to: 3x3x64-volcano.model\\assets\n"
     ]
    },
    {
     "name": "stderr",
     "output_type": "stream",
     "text": [
      "INFO:tensorflow:Assets written to: 3x3x64-volcano.model\\assets\n"
     ]
    }
   ],
   "source": [
    "for dense_layer in dense_layers:\n",
    "\tfor conv_layer in conv_layers:\n",
    "\t\tfor neuron in neurons:\n",
    "\n",
    "\t\t\tNAME = '{}-denselayer-{}-convlayer-{}-neuron-{}'.format(dense_layer, conv_layer, neuron, int(time.time()))\n",
    "\t\t\ttensorboard = TensorBoard(log_dir = 'logs2\\\\{}'.format(NAME))\n",
    "\n",
    "\n",
    "\t\t\tmodel = Sequential()\n",
    "\n",
    "\t\t\tfor l in range(conv_layer):\n",
    "\t\t\t\tmodel.add(Conv2D(neuron, (3,3), activation = 'relu'))\n",
    "\t\t\t\tmodel.add(MaxPooling2D((2,2)))\n",
    "\n",
    "\t\t\tmodel.add(Flatten())\n",
    "\n",
    "\t\t\tmodel.add(Dense(neuron, input_shape = X.shape[1:], activation = 'relu'))\n",
    "\n",
    "\t\t\tfor l in range(dense_layer - 1):\n",
    "\t\t\t\tmodel.add(Dense(neuron, activation = 'relu'))\n",
    "\n",
    "\t\t\tmodel.add(Dense(2, activation = 'softmax'))\n",
    "\n",
    "\t\t\tmodel.compile(optimizer='adam',\n",
    "\t\t\t              loss='sparse_categorical_crossentropy',\n",
    "\t\t\t              metrics=['accuracy'])\n",
    "\n",
    "\t\t\tprint('===================================================================================================================================')\n",
    "\t\t\tprint('===================================================================================================================================')\n",
    "\t\t\tprint('=========================================== RUNNING MODEL =========================================================================')\n",
    "\t\t\tprint('=================================================='+ NAME + '======================================================================')\n",
    "\t\t\tprint('===================================================================================================================================')\n",
    "\t\t\tprint('===================================================================================================================================')\n",
    "\n",
    "\t\t\tmodel.fit(X, y, epochs=10, batch_size = 32, validation_split=0.1, callbacks = [tensorboard])\n",
    "\n",
    "\t\t\tmodel.save('3x3x64-volcano.model')"
   ]
  }
 ],
 "metadata": {
  "kernelspec": {
   "display_name": "Python 3",
   "language": "python",
   "name": "python3"
  },
  "language_info": {
   "codemirror_mode": {
    "name": "ipython",
    "version": 3
   },
   "file_extension": ".py",
   "mimetype": "text/x-python",
   "name": "python",
   "nbconvert_exporter": "python",
   "pygments_lexer": "ipython3",
   "version": "3.10.10"
  },
  "orig_nbformat": 4,
  "vscode": {
   "interpreter": {
    "hash": "3b7e9cb8e453d6cda0fe8c8dd13f891a1f09162f0e7c66ffeae7751a7aecf00d"
   }
  }
 },
 "nbformat": 4,
 "nbformat_minor": 2
}
