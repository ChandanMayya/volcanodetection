{
 "cells": [
  {
   "cell_type": "code",
   "execution_count": 3,
   "metadata": {},
   "outputs": [],
   "source": [
    "import cv2\n",
    "import os\n",
    "import keras\n",
    "from pathlib import Path"
   ]
  },
  {
   "cell_type": "code",
   "execution_count": 4,
   "metadata": {},
   "outputs": [],
   "source": [
    "import numpy as np\n",
    "CATEGORIES = ['eruption', 'no_eruption']"
   ]
  },
  {
   "cell_type": "code",
   "execution_count": 5,
   "metadata": {},
   "outputs": [],
   "source": [
    "def image(path):\n",
    "    img = cv2.imread(path, cv2.IMREAD_GRAYSCALE)\n",
    "    new_arr = cv2.resize(img, (120, 120))\n",
    "    new_arr = np.array(new_arr)\n",
    "    new_arr = new_arr.reshape(-1, 120, 120, 1)\n",
    "    return new_arr\n",
    "\n",
    "model = keras.models.load_model('3x3x64-volcano.model')"
   ]
  },
  {
   "cell_type": "code",
   "execution_count": 6,
   "metadata": {},
   "outputs": [
    {
     "ename": "error",
     "evalue": "OpenCV(4.7.0) D:\\a\\opencv-python\\opencv-python\\opencv\\modules\\imgproc\\src\\resize.cpp:4062: error: (-215:Assertion failed) !ssize.empty() in function 'cv::resize'\n",
     "output_type": "error",
     "traceback": [
      "\u001b[1;31m---------------------------------------------------------------------------\u001b[0m",
      "\u001b[1;31merror\u001b[0m                                     Traceback (most recent call last)",
      "Cell \u001b[1;32mIn[6], line 1\u001b[0m\n\u001b[1;32m----> 1\u001b[0m prediction \u001b[39m=\u001b[39m model\u001b[39m.\u001b[39mpredict([image(\u001b[39m'\u001b[39;49m\u001b[39mC:/Users/User/OneDrive/Desktop/OnBoardVolcanicEruptionDetection-main/validation/eruption/20190611T063511_20190611T063512_T40KCB.png\u001b[39;49m\u001b[39m'\u001b[39;49m)])\n\u001b[0;32m      2\u001b[0m \u001b[39mprint\u001b[39m(CATEGORIES[prediction\u001b[39m.\u001b[39margmax()])  \n",
      "Cell \u001b[1;32mIn[5], line 3\u001b[0m, in \u001b[0;36mimage\u001b[1;34m(path)\u001b[0m\n\u001b[0;32m      1\u001b[0m \u001b[39mdef\u001b[39;00m \u001b[39mimage\u001b[39m(path):\n\u001b[0;32m      2\u001b[0m     img \u001b[39m=\u001b[39m cv2\u001b[39m.\u001b[39mimread(path, cv2\u001b[39m.\u001b[39mIMREAD_GRAYSCALE)\n\u001b[1;32m----> 3\u001b[0m     new_arr \u001b[39m=\u001b[39m cv2\u001b[39m.\u001b[39;49mresize(img, (\u001b[39m120\u001b[39;49m, \u001b[39m120\u001b[39;49m))\n\u001b[0;32m      4\u001b[0m     new_arr \u001b[39m=\u001b[39m np\u001b[39m.\u001b[39marray(new_arr)\n\u001b[0;32m      5\u001b[0m     new_arr \u001b[39m=\u001b[39m new_arr\u001b[39m.\u001b[39mreshape(\u001b[39m-\u001b[39m\u001b[39m1\u001b[39m, \u001b[39m120\u001b[39m, \u001b[39m120\u001b[39m, \u001b[39m1\u001b[39m)\n",
      "\u001b[1;31merror\u001b[0m: OpenCV(4.7.0) D:\\a\\opencv-python\\opencv-python\\opencv\\modules\\imgproc\\src\\resize.cpp:4062: error: (-215:Assertion failed) !ssize.empty() in function 'cv::resize'\n"
     ]
    }
   ],
   "source": [
    "prediction = model.predict([image('C:/Users/User/OneDrive/Desktop/OnBoardVolcanicEruptionDetection-main/validation/eruption/20190611T063511_20190611T063512_T40KCB.png')])\n",
    "print(CATEGORIES[prediction.argmax()])  "
   ]
  },
  {
   "cell_type": "code",
   "execution_count": null,
   "metadata": {},
   "outputs": [],
   "source": []
  }
 ],
 "metadata": {
  "kernelspec": {
   "display_name": "Python 3",
   "language": "python",
   "name": "python3"
  },
  "language_info": {
   "codemirror_mode": {
    "name": "ipython",
    "version": 3
   },
   "file_extension": ".py",
   "mimetype": "text/x-python",
   "name": "python",
   "nbconvert_exporter": "python",
   "pygments_lexer": "ipython3",
   "version": "3.10.10"
  },
  "orig_nbformat": 4,
  "vscode": {
   "interpreter": {
    "hash": "3b7e9cb8e453d6cda0fe8c8dd13f891a1f09162f0e7c66ffeae7751a7aecf00d"
   }
  }
 },
 "nbformat": 4,
 "nbformat_minor": 2
}
