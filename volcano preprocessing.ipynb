{
 "cells": [
  {
   "cell_type": "code",
   "execution_count": 1,
   "metadata": {},
   "outputs": [],
   "source": [
    "#preprocessing"
   ]
  },
  {
   "cell_type": "code",
   "execution_count": 2,
   "metadata": {},
   "outputs": [],
   "source": [
    "import numpy as np\n",
    "import os\n",
    "import cv2\n",
    "import matplotlib.pyplot as plt"
   ]
  },
  {
   "cell_type": "code",
   "execution_count": 3,
   "metadata": {},
   "outputs": [],
   "source": [
    "%matplotlib inline"
   ]
  },
  {
   "cell_type": "code",
   "execution_count": 4,
   "metadata": {},
   "outputs": [],
   "source": [
    "DIRECTORY = r'C:\\Users\\User\\OneDrive\\Desktop\\s3\\dal\\OnBoardVolcanicEruptionDetection-main\\data_reviewed\\training'\n",
    "\n",
    "CATEGORIES = ['eruption', 'no_eruption']"
   ]
  },
  {
   "cell_type": "code",
   "execution_count": 5,
   "metadata": {},
   "outputs": [],
   "source": [
    "data = []\n",
    "\n",
    "for category in CATEGORIES:\n",
    "    path = os.path.join(DIRECTORY, category)\n",
    "    for img in os.listdir(path):\n",
    "        img_path = os.path.join(path, img)\n",
    "        label = CATEGORIES.index(category)\n",
    "        arr = cv2.imread(img_path, cv2.IMREAD_GRAYSCALE)\n",
    "        new_arr = cv2.resize(arr, (120, 120))\n",
    "        data.append([new_arr, label])"
   ]
  },
  {
   "cell_type": "code",
   "execution_count": 6,
   "metadata": {},
   "outputs": [],
   "source": [
    "import random\n",
    "random.shuffle(data)"
   ]
  },
  {
   "cell_type": "code",
   "execution_count": 7,
   "metadata": {},
   "outputs": [],
   "source": [
    "X = []\n",
    "y = []"
   ]
  },
  {
   "cell_type": "code",
   "execution_count": 8,
   "metadata": {},
   "outputs": [],
   "source": [
    "for features, label in data:\n",
    "    X.append(features)\n",
    "    y.append(label)"
   ]
  },
  {
   "cell_type": "code",
   "execution_count": 9,
   "metadata": {},
   "outputs": [],
   "source": [
    "X = np.array(X)\n",
    "y = np.array(y)"
   ]
  },
  {
   "cell_type": "code",
   "execution_count": 10,
   "metadata": {},
   "outputs": [
    {
     "data": {
      "text/plain": [
       "(1150, 120, 120)"
      ]
     },
     "execution_count": 10,
     "metadata": {},
     "output_type": "execute_result"
    }
   ],
   "source": [
    "X = X/255\n",
    "X.shape"
   ]
  },
  {
   "cell_type": "code",
   "execution_count": 11,
   "metadata": {},
   "outputs": [],
   "source": [
    "X = X.reshape(-1, 120, 120, 1)"
   ]
  },
  {
   "cell_type": "code",
   "execution_count": 12,
   "metadata": {},
   "outputs": [],
   "source": [
    "#training"
   ]
  },
  {
   "cell_type": "code",
   "execution_count": 13,
   "metadata": {},
   "outputs": [],
   "source": [
    "from keras.models import Sequential\n",
    "from keras.layers import Conv2D, MaxPooling2D, Dense, Flatten"
   ]
  },
  {
   "cell_type": "code",
   "execution_count": 14,
   "metadata": {},
   "outputs": [],
   "source": [
    "model = Sequential()\n",
    "\n",
    "model.add(Conv2D(64, (3,3), activation = 'relu'))\n",
    "model.add(MaxPooling2D((2,2)))\n",
    "\n",
    "model.add(Conv2D(64, (3,3), activation = 'relu'))\n",
    "model.add(MaxPooling2D((2,2)))\n",
    "\n",
    "model.add(Flatten())\n",
    "\n",
    "model.add(Dense(128, input_shape = X.shape[1:], activation = 'relu'))\n",
    "\n",
    "model.add(Dense(2, activation = 'softmax'))"
   ]
  },
  {
   "cell_type": "code",
   "execution_count": 15,
   "metadata": {},
   "outputs": [
    {
     "name": "stdout",
     "output_type": "stream",
     "text": [
      "Epoch 1/30\n",
      "33/33 [==============================] - 27s 778ms/step - loss: 0.7426 - accuracy: 0.6889 - val_loss: 0.6119 - val_accuracy: 0.6783\n",
      "Epoch 2/30\n",
      "33/33 [==============================] - 23s 696ms/step - loss: 0.5289 - accuracy: 0.7420 - val_loss: 0.5842 - val_accuracy: 0.6783\n",
      "Epoch 3/30\n",
      "33/33 [==============================] - 23s 684ms/step - loss: 0.4308 - accuracy: 0.8106 - val_loss: 0.4824 - val_accuracy: 0.7913\n",
      "Epoch 4/30\n",
      "33/33 [==============================] - 22s 679ms/step - loss: 0.3392 - accuracy: 0.8493 - val_loss: 0.4561 - val_accuracy: 0.8261\n",
      "Epoch 5/30\n",
      "33/33 [==============================] - 22s 674ms/step - loss: 0.2791 - accuracy: 0.8831 - val_loss: 0.4992 - val_accuracy: 0.8348\n",
      "Epoch 6/30\n",
      "33/33 [==============================] - 23s 683ms/step - loss: 0.2034 - accuracy: 0.9101 - val_loss: 0.5158 - val_accuracy: 0.8609\n",
      "Epoch 7/30\n",
      "33/33 [==============================] - 23s 690ms/step - loss: 0.1603 - accuracy: 0.9401 - val_loss: 0.7125 - val_accuracy: 0.8348\n",
      "Epoch 8/30\n",
      "33/33 [==============================] - 23s 700ms/step - loss: 0.1191 - accuracy: 0.9575 - val_loss: 0.7343 - val_accuracy: 0.8522\n",
      "Epoch 9/30\n",
      "33/33 [==============================] - 23s 690ms/step - loss: 0.0974 - accuracy: 0.9720 - val_loss: 0.9506 - val_accuracy: 0.8087\n",
      "Epoch 10/30\n",
      "33/33 [==============================] - 22s 679ms/step - loss: 0.0866 - accuracy: 0.9729 - val_loss: 1.0492 - val_accuracy: 0.8174\n",
      "Epoch 11/30\n",
      "33/33 [==============================] - 23s 691ms/step - loss: 0.1036 - accuracy: 0.9652 - val_loss: 0.7839 - val_accuracy: 0.8348\n",
      "Epoch 12/30\n",
      "33/33 [==============================] - 22s 679ms/step - loss: 0.0624 - accuracy: 0.9855 - val_loss: 0.8578 - val_accuracy: 0.8609\n",
      "Epoch 13/30\n",
      "33/33 [==============================] - 22s 677ms/step - loss: 0.0552 - accuracy: 0.9865 - val_loss: 1.2418 - val_accuracy: 0.8348\n",
      "Epoch 14/30\n",
      "33/33 [==============================] - 22s 673ms/step - loss: 0.0405 - accuracy: 0.9923 - val_loss: 0.9611 - val_accuracy: 0.8261\n",
      "Epoch 15/30\n",
      "33/33 [==============================] - 22s 675ms/step - loss: 0.0500 - accuracy: 0.9923 - val_loss: 1.0420 - val_accuracy: 0.8522\n",
      "Epoch 16/30\n",
      "33/33 [==============================] - 22s 672ms/step - loss: 0.0320 - accuracy: 0.9923 - val_loss: 1.8647 - val_accuracy: 0.7913\n",
      "Epoch 17/30\n",
      "33/33 [==============================] - 22s 674ms/step - loss: 0.0557 - accuracy: 0.9903 - val_loss: 1.2228 - val_accuracy: 0.8435\n",
      "Epoch 18/30\n",
      "33/33 [==============================] - 22s 674ms/step - loss: 0.0479 - accuracy: 0.9894 - val_loss: 1.1449 - val_accuracy: 0.8435\n",
      "Epoch 19/30\n",
      "33/33 [==============================] - 23s 694ms/step - loss: 0.0328 - accuracy: 0.9932 - val_loss: 1.3228 - val_accuracy: 0.8435\n",
      "Epoch 20/30\n",
      "33/33 [==============================] - 23s 691ms/step - loss: 0.0210 - accuracy: 0.9961 - val_loss: 1.2917 - val_accuracy: 0.8000\n",
      "Epoch 21/30\n",
      "33/33 [==============================] - 25s 751ms/step - loss: 0.0392 - accuracy: 0.9961 - val_loss: 1.4830 - val_accuracy: 0.8348\n",
      "Epoch 22/30\n",
      "33/33 [==============================] - 22s 679ms/step - loss: 0.0344 - accuracy: 0.9961 - val_loss: 1.2538 - val_accuracy: 0.8348\n",
      "Epoch 23/30\n",
      "33/33 [==============================] - 22s 674ms/step - loss: 0.0204 - accuracy: 0.9961 - val_loss: 1.3335 - val_accuracy: 0.8261\n",
      "Epoch 24/30\n",
      "33/33 [==============================] - 23s 683ms/step - loss: 0.0209 - accuracy: 0.9971 - val_loss: 1.4050 - val_accuracy: 0.8348\n",
      "Epoch 25/30\n",
      "33/33 [==============================] - 23s 683ms/step - loss: 0.0139 - accuracy: 0.9990 - val_loss: 1.5467 - val_accuracy: 0.8348\n",
      "Epoch 26/30\n",
      "33/33 [==============================] - 24s 718ms/step - loss: 0.0361 - accuracy: 0.9981 - val_loss: 1.2166 - val_accuracy: 0.8435\n",
      "Epoch 27/30\n",
      "33/33 [==============================] - 23s 686ms/step - loss: 0.0640 - accuracy: 0.9952 - val_loss: 1.2249 - val_accuracy: 0.8087\n",
      "Epoch 28/30\n",
      "33/33 [==============================] - 23s 684ms/step - loss: 0.0430 - accuracy: 0.9961 - val_loss: 1.3629 - val_accuracy: 0.8174\n",
      "Epoch 29/30\n",
      "33/33 [==============================] - 23s 682ms/step - loss: 0.0269 - accuracy: 0.9981 - val_loss: 1.1818 - val_accuracy: 0.8696\n",
      "Epoch 30/30\n",
      "33/33 [==============================] - 23s 682ms/step - loss: 0.0171 - accuracy: 0.9981 - val_loss: 1.3916 - val_accuracy: 0.8435\n"
     ]
    },
    {
     "data": {
      "text/plain": [
       "<keras.callbacks.History at 0x1a865232380>"
      ]
     },
     "execution_count": 15,
     "metadata": {},
     "output_type": "execute_result"
    }
   ],
   "source": [
    "model.compile(optimizer='adam',\n",
    "              loss='sparse_categorical_crossentropy',\n",
    "              metrics=['accuracy'])\n",
    "model.fit(X, y, epochs=30, validation_split=0.1)"
   ]
  },
  {
   "cell_type": "code",
   "execution_count": 16,
   "metadata": {},
   "outputs": [],
   "source": [
    "from keras.models import Sequential\n",
    "from keras.layers import Conv2D, MaxPooling2D, Dense, Flatten\n",
    "\n",
    "from keras.callbacks import TensorBoard\n",
    "import time"
   ]
  },
  {
   "cell_type": "code",
   "execution_count": 17,
   "metadata": {},
   "outputs": [],
   "source": [
    "dense_layers = [3]\n",
    "conv_layers = [3]\n",
    "neurons = [64]"
   ]
  },
  {
   "cell_type": "code",
   "execution_count": 18,
   "metadata": {},
   "outputs": [
    {
     "name": "stdout",
     "output_type": "stream",
     "text": [
      "===================================================================================================================================\n",
      "===================================================================================================================================\n",
      "=========================================== RUNNING MODEL =========================================================================\n",
      "==================================================3-denselayer-3-convlayer-64-neuron-1677999574======================================================================\n",
      "===================================================================================================================================\n",
      "===================================================================================================================================\n",
      "Epoch 1/8\n",
      "33/33 [==============================] - 24s 668ms/step - loss: 0.6311 - accuracy: 0.6928 - val_loss: 0.6319 - val_accuracy: 0.6783\n",
      "Epoch 2/8\n",
      "33/33 [==============================] - 22s 652ms/step - loss: 0.5818 - accuracy: 0.7140 - val_loss: 0.6900 - val_accuracy: 0.6783\n",
      "Epoch 3/8\n",
      "33/33 [==============================] - 21s 634ms/step - loss: 0.5550 - accuracy: 0.7295 - val_loss: 0.6206 - val_accuracy: 0.6870\n",
      "Epoch 4/8\n",
      "33/33 [==============================] - 21s 636ms/step - loss: 0.5267 - accuracy: 0.7498 - val_loss: 0.5465 - val_accuracy: 0.7304\n",
      "Epoch 5/8\n",
      "33/33 [==============================] - 21s 647ms/step - loss: 0.4950 - accuracy: 0.7565 - val_loss: 0.4914 - val_accuracy: 0.7913\n",
      "Epoch 6/8\n",
      "33/33 [==============================] - 21s 639ms/step - loss: 0.4356 - accuracy: 0.8029 - val_loss: 0.4645 - val_accuracy: 0.8087\n",
      "Epoch 7/8\n",
      "33/33 [==============================] - 21s 642ms/step - loss: 0.3500 - accuracy: 0.8377 - val_loss: 0.4807 - val_accuracy: 0.7565\n",
      "Epoch 8/8\n",
      "33/33 [==============================] - 21s 643ms/step - loss: 0.2950 - accuracy: 0.8628 - val_loss: 0.4822 - val_accuracy: 0.8174\n"
     ]
    },
    {
     "name": "stderr",
     "output_type": "stream",
     "text": [
      "WARNING:absl:Found untraced functions such as _jit_compiled_convolution_op, _jit_compiled_convolution_op, _jit_compiled_convolution_op, _update_step_xla while saving (showing 4 of 4). These functions will not be directly callable after loading.\n"
     ]
    },
    {
     "name": "stdout",
     "output_type": "stream",
     "text": [
      "INFO:tensorflow:Assets written to: 3x3x64-volcano.model\\assets\n"
     ]
    },
    {
     "name": "stderr",
     "output_type": "stream",
     "text": [
      "INFO:tensorflow:Assets written to: 3x3x64-volcano.model\\assets\n"
     ]
    }
   ],
   "source": [
    "for dense_layer in dense_layers:\n",
    "\tfor conv_layer in conv_layers:\n",
    "\t\tfor neuron in neurons:\n",
    "\n",
    "\t\t\tNAME = '{}-denselayer-{}-convlayer-{}-neuron-{}'.format(dense_layer, conv_layer, neuron, int(time.time()))\n",
    "\t\t\ttensorboard = TensorBoard(log_dir = 'logs2\\\\{}'.format(NAME))\n",
    "\n",
    "\n",
    "\t\t\tmodel = Sequential()\n",
    "\n",
    "\t\t\tfor l in range(conv_layer):\n",
    "\t\t\t\tmodel.add(Conv2D(neuron, (3,3), activation = 'relu'))\n",
    "\t\t\t\tmodel.add(MaxPooling2D((2,2)))\n",
    "\n",
    "\t\t\tmodel.add(Flatten())\n",
    "\n",
    "\t\t\tmodel.add(Dense(neuron, input_shape = X.shape[1:], activation = 'relu'))\n",
    "\n",
    "\t\t\tfor l in range(dense_layer - 1):\n",
    "\t\t\t\tmodel.add(Dense(neuron, activation = 'relu'))\n",
    "\n",
    "\t\t\tmodel.add(Dense(2, activation = 'softmax'))\n",
    "\n",
    "\t\t\tmodel.compile(optimizer='adam',\n",
    "\t\t\t              loss='sparse_categorical_crossentropy',\n",
    "\t\t\t              metrics=['accuracy'])\n",
    "\n",
    "\t\t\tprint('===================================================================================================================================')\n",
    "\t\t\tprint('===================================================================================================================================')\n",
    "\t\t\tprint('=========================================== RUNNING MODEL =========================================================================')\n",
    "\t\t\tprint('=================================================='+ NAME + '======================================================================')\n",
    "\t\t\tprint('===================================================================================================================================')\n",
    "\t\t\tprint('===================================================================================================================================')\n",
    "\n",
    "\t\t\tmodel.fit(X, y, epochs=8, batch_size = 32, validation_split=0.1, callbacks = [tensorboard])\n",
    "\n",
    "\t\t\tmodel.save('3x3x64-volcano.model')"
   ]
  }
 ],
 "metadata": {
  "kernelspec": {
   "display_name": "Python 3",
   "language": "python",
   "name": "python3"
  },
  "language_info": {
   "codemirror_mode": {
    "name": "ipython",
    "version": 3
   },
   "file_extension": ".py",
   "mimetype": "text/x-python",
   "name": "python",
   "nbconvert_exporter": "python",
   "pygments_lexer": "ipython3",
   "version": "3.10.10"
  },
  "orig_nbformat": 4,
  "vscode": {
   "interpreter": {
    "hash": "3b7e9cb8e453d6cda0fe8c8dd13f891a1f09162f0e7c66ffeae7751a7aecf00d"
   }
  }
 },
 "nbformat": 4,
 "nbformat_minor": 2
}
